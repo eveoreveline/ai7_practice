{
 "cells": [
  {
   "cell_type": "markdown",
   "metadata": {},
   "source": [
    "## Convolution Neural Networks\n",
    "### * 완전 연결 네트워크의 문제점에서 시작\n",
    "  * 매개변수의 폭발적 증가\n",
    "  * 공간 추론의 부족: 픽셀 사이의 근접성 개념이 완전 연결 계층에서는 손실됨\n",
    "### * 동물의 시각피질(visual vortex)의 구조에서 영감을 받아 만들어짐 \n",
    "  * 시야 내 특정영역에 대한 자극만 수용\n",
    "  * 수용장 (receptive field)\n",
    "  * 해당 영역의 특정 특징에 대해서만 반응\n",
    "### * 정보가 계층적으로 처리되어가면서 점차 추상적 특징이 추출되어 시각 인식\n",
    " 1차 시각피질에서 시각 자극 처리 -> 2차 시각 피질을 경유 -> 3차 시각 피질 등 여러 영역을 통과하며 계층적 정보처리\n",
    "### * 동물의 계층적 특징 추출과 시각인식 체계를 참조\n",
    "  * 전반부: 컨볼루션 연산을 수행하여 특징 추출\n",
    "  * 후반부: 특징을 이요하여 분류"
   ]
  },
  {
   "cell_type": "markdown",
   "metadata": {},
   "source": [
    "## Convolution Operation\n",
    "\n",
    "#### filter 연산\n",
    "* 입력 데이터에 필터를 통한 연산 진행\n",
    "* 필터에 대응하는 원소끼리 곱하고, 그 합을 구함\n",
    "* 연산 완료 결과 데이터를 특징 맵('feature map')이라 부름\n",
    "\n",
    "#### filter\n",
    "* 커널(kernel)이라고도 함\n",
    "* 이미지 처리에서 사용하는 '이미지 필터'와 비슷한 개념\n",
    "* 필터 사이즈는 항상 거의 홀수"
   ]
  },
  {
   "cell_type": "code",
   "execution_count": null,
   "metadata": {},
   "outputs": [],
   "source": []
  }
 ],
 "metadata": {
  "language_info": {
   "name": "python"
  },
  "orig_nbformat": 4
 },
 "nbformat": 4,
 "nbformat_minor": 2
}
