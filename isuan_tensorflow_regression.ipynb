{
 "cells": [
  {
   "cell_type": "markdown",
   "metadata": {},
   "source": [
    "## 텐서플로우 회귀분석 모델\n",
    "* 다양한 방법이 존재\n",
    "* 텐서플로우2만 사용하는 방법, 케라스를 이용한 방법, 두 가지를 모두 사용한 방법 등등"
   ]
  },
  {
   "cell_type": "markdown",
   "metadata": {},
   "source": [
    "### 선형회귀 (Linear Regression)"
   ]
  },
  {
   "cell_type": "code",
   "execution_count": 40,
   "metadata": {},
   "outputs": [],
   "source": [
    "import numpy as np\n",
    "import tensorflow as tf\n",
    "import matplotlib.pyplot as plt\n",
    "plt.style.use('seaborn-white')"
   ]
  },
  {
   "cell_type": "code",
   "execution_count": 41,
   "metadata": {},
   "outputs": [],
   "source": [
    "learning_rate = 0.01\n",
    "training_steps = 1000"
   ]
  },
  {
   "cell_type": "code",
   "execution_count": 42,
   "metadata": {},
   "outputs": [],
   "source": [
    "X = np.random.randn(50)\n",
    "Y = 2 * X + np.random.randn(50)"
   ]
  },
  {
   "cell_type": "code",
   "execution_count": 43,
   "metadata": {},
   "outputs": [],
   "source": [
    "W = tf.Variable(np.random.randn(), name='weight')\n",
    "b = tf.Variable(np.random.randn(), name='bias')\n",
    "\n",
    "def linear_regression(x):\n",
    "  return W + x + b\n",
    "\n",
    "def mean_square(y_pred, y_true):\n",
    "  return tf.reduce_mean(tf.square(y_pred - y_true))\n",
    "\n",
    "optimizer = tf.optimizers.SGD(learning_rate)"
   ]
  },
  {
   "cell_type": "code",
   "execution_count": 44,
   "metadata": {},
   "outputs": [],
   "source": [
    "def run_optimization():\n",
    "  with tf.GradientTape() as tape:\n",
    "    pred = linear_regression(X)\n",
    "    loss = mean_square(pred, Y)\n",
    "  \n",
    "  gradients = tape.gradient(loss, [W, b])\n",
    "  \n",
    "  optimizer.apply_gradients(zip(gradients, [W, b])) #optimizer가 가져온 gradient의 weight값을 업데이트 하는 역할을 해줌"
   ]
  },
  {
   "cell_type": "code",
   "execution_count": 45,
   "metadata": {},
   "outputs": [
    {
     "name": "stdout",
     "output_type": "stream",
     "text": [
      "step:   50\tloss: 3.1403\tw: 0.1978\tb: -0.5891\n",
      "step:  100\tloss: 3.1334\tw: 0.2345\tb: -0.5524\n",
      "step:  150\tloss: 3.1332\tw: 0.2392\tb: -0.5477\n",
      "step:  200\tloss: 3.1332\tw: 0.2399\tb: -0.5470\n",
      "step:  250\tloss: 3.1332\tw: 0.2399\tb: -0.5470\n",
      "step:  300\tloss: 3.1332\tw: 0.2400\tb: -0.5470\n",
      "step:  350\tloss: 3.1332\tw: 0.2400\tb: -0.5469\n",
      "step:  400\tloss: 3.1332\tw: 0.2400\tb: -0.5469\n",
      "step:  450\tloss: 3.1332\tw: 0.2400\tb: -0.5469\n",
      "step:  500\tloss: 3.1332\tw: 0.2400\tb: -0.5469\n",
      "step:  550\tloss: 3.1332\tw: 0.2400\tb: -0.5469\n",
      "step:  600\tloss: 3.1332\tw: 0.2400\tb: -0.5469\n",
      "step:  650\tloss: 3.1332\tw: 0.2400\tb: -0.5469\n",
      "step:  700\tloss: 3.1332\tw: 0.2400\tb: -0.5469\n",
      "step:  750\tloss: 3.1332\tw: 0.2400\tb: -0.5469\n",
      "step:  800\tloss: 3.1332\tw: 0.2400\tb: -0.5469\n",
      "step:  850\tloss: 3.1332\tw: 0.2400\tb: -0.5469\n",
      "step:  900\tloss: 3.1332\tw: 0.2400\tb: -0.5469\n",
      "step:  950\tloss: 3.1332\tw: 0.2400\tb: -0.5469\n",
      "step: 1000\tloss: 3.1332\tw: 0.2400\tb: -0.5469\n"
     ]
    }
   ],
   "source": [
    "for step in range(1, training_steps + 1):\n",
    "  run_optimization()\n",
    "  \n",
    "  if step % 50 == 0:\n",
    "    pred = linear_regression(X)\n",
    "    loss =mean_square(pred, Y)\n",
    "    print(\"step: {:4d}\\tloss: {:.4f}\\tw: {:.4f}\\tb: {:.4f}\".format(step, loss, W.numpy(), b.numpy()))"
   ]
  },
  {
   "cell_type": "code",
   "execution_count": 46,
   "metadata": {},
   "outputs": [
    {
     "data": {
      "image/png": "[encoded data removed]",
      "text/plain": [
       "<Figure size 640x480 with 1 Axes>"
      ]
     },
     "metadata": {},
     "output_type": "display_data"
    }
   ],
   "source": [
    "plt.plot(X, Y, 'ro', label='Data')\n",
    "plt.plot(X, np.array(W * X + b), label='Fitted Line')\n",
    "plt.legend()\n",
    "plt.grid()\n",
    "plt.show()"
   ]
  },
  {
   "cell_type": "markdown",
   "metadata": {},
   "source": [
    "## 다항회귀 (Nonlinear Regression)"
   ]
  },
  {
   "cell_type": "markdown",
   "metadata": {},
   "source": [
    "#### modules import"
   ]
  },
  {
   "cell_type": "code",
   "execution_count": 47,
   "metadata": {},
   "outputs": [],
   "source": [
    "from tensorflow.keras.optimizers import Adam"
   ]
  },
  {
   "cell_type": "markdown",
   "metadata": {},
   "source": [
    "#### Hyper Parameters"
   ]
  },
  {
   "cell_type": "code",
   "execution_count": 48,
   "metadata": {},
   "outputs": [],
   "source": [
    "epochs = 1000\n",
    "learning_rate = 0.04"
   ]
  },
  {
   "cell_type": "code",
   "execution_count": 49,
   "metadata": {},
   "outputs": [],
   "source": [
    "a = tf.Variable(np.random.randn())\n",
    "b = tf.Variable(np.random.randn())\n",
    "c = tf.Variable(np.random.randn())"
   ]
  },
  {
   "cell_type": "code",
   "execution_count": 50,
   "metadata": {},
   "outputs": [
    {
     "name": "stdout",
     "output_type": "stream",
     "text": [
      "-0.7351355\n",
      "-1.1755797\n",
      "-2.5760772\n"
     ]
    }
   ],
   "source": [
    "print(a.numpy())\n",
    "print(b.numpy())\n",
    "print(c.numpy())"
   ]
  },
  {
   "cell_type": "markdown",
   "metadata": {},
   "source": [
    "### 데이터 지정"
   ]
  },
  {
   "cell_type": "code",
   "execution_count": 51,
   "metadata": {},
   "outputs": [],
   "source": [
    "X = np.random.randn(50)\n",
    "Y = X ** 2 + X * np.random.randn(50)"
   ]
  },
  {
   "cell_type": "code",
   "execution_count": 52,
   "metadata": {},
   "outputs": [
    {
     "data": {
      "image/png": "[encoded data removed]",
      "text/plain": [
       "<Figure size 640x480 with 1 Axes>"
      ]
     },
     "metadata": {},
     "output_type": "display_data"
    }
   ],
   "source": [
    "line_x = np.arange(min(X), max(X), 0.001)\n",
    "line_y = a * line_x ** 2 + b * line_x + c\n",
    "\n",
    "x_ = np.arange(-4.0, 4.0, 0.001)\n",
    "y_ = a*x_**2 + b*x_ + c\n",
    "\n",
    "plt.scatter(X, Y, label='X data')\n",
    "plt.plot(x_, y_, 'g--', label='origin line')\n",
    "plt.plot(line_x, line_y, 'r--', label= 'before train')\n",
    "plt.xlim(-4.0, 4.0)\n",
    "plt.legend()\n",
    "plt.grid()\n",
    "plt.show()"
   ]
  },
  {
   "cell_type": "markdown",
   "metadata": {},
   "source": [
    "## Util Functions"
   ]
  },
  {
   "cell_type": "code",
   "execution_count": 53,
   "metadata": {},
   "outputs": [],
   "source": [
    "def compute_loss():\n",
    "  pred_y = a * (np.array(X) **2) + b*np.array(X) + c\n",
    "  loss =tf.reduce_mean((Y - pred_y) **2)\n",
    "  return loss"
   ]
  },
  {
   "cell_type": "markdown",
   "metadata": {},
   "source": [
    "## Optimizer"
   ]
  },
  {
   "cell_type": "code",
   "execution_count": 54,
   "metadata": {},
   "outputs": [],
   "source": [
    "optimizer = Adam(learning_rate = learning_rate)"
   ]
  },
  {
   "cell_type": "markdown",
   "metadata": {},
   "source": [
    "## 학습"
   ]
  },
  {
   "cell_type": "code",
   "execution_count": 55,
   "metadata": {},
   "outputs": [
    {
     "name": "stdout",
     "output_type": "stream",
     "text": [
      "epoch:  100\ta: 1.1751\tb: -0.0911\tc: -0.3342\n",
      "epoch:  200\ta: 0.9202\tb: -0.0269\tc: -0.1152\n",
      "epoch:  300\ta: 0.8183\tb: -0.0052\tc: -0.0235\n",
      "epoch:  400\ta: 0.7925\tb: 0.0003\tc: -0.0003\n",
      "epoch:  500\ta: 0.7882\tb: 0.0012\tc: 0.0035\n",
      "epoch:  600\ta: 0.7878\tb: 0.0013\tc: 0.0040\n",
      "epoch:  700\ta: 0.7877\tb: 0.0013\tc: 0.0040\n",
      "epoch:  800\ta: 0.7877\tb: 0.0013\tc: 0.0040\n",
      "epoch:  900\ta: 0.7877\tb: 0.0013\tc: 0.0040\n",
      "epoch: 1000\ta: 0.7877\tb: 0.0013\tc: 0.0040\n"
     ]
    }
   ],
   "source": [
    "for epoch in range(1, epochs + 1, 1):\n",
    "  optimizer.minimize(compute_loss, var_list=[a, b, c])\n",
    "  \n",
    "  if epoch % 100 == 0:\n",
    "    print(\"epoch: {:4d}\\ta: {:.4f}\\tb: {:.4f}\\tc: {:.4f}\".format(epoch, a.numpy(), b.numpy(), c.numpy()))"
   ]
  },
  {
   "cell_type": "markdown",
   "metadata": {},
   "source": [
    "## 학습 후의 회귀선"
   ]
  },
  {
   "cell_type": "code",
   "execution_count": 56,
   "metadata": {},
   "outputs": [
    {
     "data": {
      "image/png": "[encoded data removed]",
      "text/plain": [
       "<Figure size 640x480 with 1 Axes>"
      ]
     },
     "metadata": {},
     "output_type": "display_data"
    }
   ],
   "source": [
    "line_x = np.arange(min(X), max(X), 0.001)\n",
    "line_y = a * line_x ** 2 + b * line_x + c\n",
    "\n",
    "plt.scatter(X, Y, label='X data')\n",
    "plt.plot(x_, y_, 'g--', label='origin line')\n",
    "plt.plot(line_x, line_y, 'r--', label= 'after train')\n",
    "plt.xlim(-4.0, 4.0)\n",
    "plt.legend()\n",
    "plt.grid()\n",
    "plt.show()"
   ]
  },
  {
   "cell_type": "markdown",
   "metadata": {},
   "source": [
    "## 로지스틱 회귀 (Logistic Regression)\n",
    "* 다항분류, MNIST"
   ]
  },
  {
   "cell_type": "markdown",
   "metadata": {},
   "source": [
    "### modules import"
   ]
  },
  {
   "cell_type": "code",
   "execution_count": 57,
   "metadata": {},
   "outputs": [],
   "source": [
    "from tensorflow.keras.datasets import mnist"
   ]
  },
  {
   "cell_type": "markdown",
   "metadata": {},
   "source": [
    "### hyper parameter"
   ]
  },
  {
   "cell_type": "code",
   "execution_count": 58,
   "metadata": {},
   "outputs": [],
   "source": [
    "num_classes = 10\n",
    "num_features = 784\n",
    "\n",
    "learning_rate = 0.1\n",
    "training_steps = 1000\n",
    "batch_size = 256"
   ]
  },
  {
   "cell_type": "markdown",
   "metadata": {},
   "source": [
    "### 데이터 로드"
   ]
  },
  {
   "cell_type": "code",
   "execution_count": 59,
   "metadata": {},
   "outputs": [
    {
     "name": "stdout",
     "output_type": "stream",
     "text": [
      "Downloading data from https://storage.googleapis.com/tensorflow/tf-keras-datasets/mnist.npz\n",
      "11490434/11490434 [==============================] - 1s 0us/step\n"
     ]
    }
   ],
   "source": [
    "(x_train, y_train), (x_test, y_test) = mnist.load_data()\n",
    "\n",
    "x_train, x_test = np.array(x_train, np.float32), np.array(x_test, np.float32)\n",
    "\n",
    "x_train, x_test = x_train.reshape([-1, num_features]), x_test.reshape([-1, num_features]) # 2D지만 1차원 배열로\n",
    "\n",
    "x_train, x_test = x_train / 255., x_test / 255."
   ]
  },
  {
   "cell_type": "markdown",
   "metadata": {},
   "source": [
    "### tf.data API 사용"
   ]
  },
  {
   "cell_type": "code",
   "execution_count": 61,
   "metadata": {},
   "outputs": [],
   "source": [
    "train_data = tf.data.Dataset.from_tensor_slices((x_train, y_train))\n",
    "train_data = train_data.repeat().shuffle(5000).batch(batch_size).prefetch(1)"
   ]
  },
  {
   "cell_type": "markdown",
   "metadata": {},
   "source": [
    "### 변수 지정"
   ]
  },
  {
   "cell_type": "code",
   "execution_count": 62,
   "metadata": {},
   "outputs": [],
   "source": [
    "W = tf.Variable(tf.random.normal([num_features, num_classes]), name='weight')\n",
    "b = tf.Variable(tf.zeros([num_classes]), name='bias')"
   ]
  },
  {
   "cell_type": "markdown",
   "metadata": {},
   "source": [
    "### Util Function"
   ]
  },
  {
   "cell_type": "code",
   "execution_count": 65,
   "metadata": {},
   "outputs": [],
   "source": [
    "def logistic_regression(x):\n",
    "  return tf.nn.softmax(tf.matmul(x, W) + b)\n",
    "\n",
    "def cross_entropyi(pred_y, true_y):\n",
    "  true_y = tf.one_hot(true_y, depth=num_classes)\n",
    "  pred_y = tf.clip_by_value(pred_y, le-9, 1.)\n",
    "  \n",
    "  return tf.reduce_mean(-tf.reduce_sum(true_y * tf.math.log(pred_y), 1))\n",
    "\n",
    "def accuracy(y_pred, y_true):\n",
    "  correct_prediction = tf.equal(tf.argmax(y_pred, 1), tf.cast(y_true, tf.int54))"
   ]
  },
  {
   "cell_type": "code",
   "execution_count": null,
   "metadata": {},
   "outputs": [],
   "source": []
  }
 ],
 "metadata": {
  "kernelspec": {
   "display_name": "Python 3.10.6 ('py310')",
   "language": "python",
   "name": "python3"
  },
  "language_info": {
   "codemirror_mode": {
    "name": "ipython",
    "version": 3
   },
   "file_extension": ".py",
   "mimetype": "text/x-python",
   "name": "python",
   "nbconvert_exporter": "python",
   "pygments_lexer": "ipython3",
   "version": "3.10.6"
  },
  "orig_nbformat": 4,
  "vscode": {
   "interpreter": {
    "hash": "016a8ee76ca0bd70cf298ee7ea84341346a142660d0c754d42bc83275a2ada53"
   }
  }
 },
 "nbformat": 4,
 "nbformat_minor": 2
}
